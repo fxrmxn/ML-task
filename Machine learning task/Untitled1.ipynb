{
 "cells": [
  {
   "cell_type": "code",
   "execution_count": 3,
   "id": "fe0bba3f-88c3-4c9c-8893-c139f414b58f",
   "metadata": {},
   "outputs": [],
   "source": [
    "import pandas as pd\n",
    "from sklearn.model_selection import train_test_split\n",
    "from tensorflow.keras.preprocessing.text import Tokenizer\n",
    "from keras.preprocessing.sequence import pad_sequences\n",
    "from keras.models import Sequential\n",
    "from keras.layers import LSTM, Dense, Embedding, SpatialDropout1D\n"
   ]
  },
  {
   "cell_type": "code",
   "execution_count": 4,
   "id": "81af5fb7-4fe4-4168-a122-2fe0665a0604",
   "metadata": {},
   "outputs": [],
   "source": [
    "# Define the file paths and column names\n",
    "cols = ['id', 'text', 'label', 'intensity']\n",
    "path = \"./\"  # Use \"./\" to indicate the current directory\n",
    "\n",
    "# Load the data for each emotion\n",
    "anger_train = pd.read_csv(path + 'angertraindata.txt', header=None, sep='\\t', names=cols, index_col=0)\n",
    "fear_train = pd.read_csv(path + 'feartraindata.txt', header=None, sep='\\t', names=cols, index_col=0)\n",
    "joy_train = pd.read_csv(path + 'joytraindata.txt', header=None, sep='\\t', names=cols, index_col=0)\n",
    "sad_train = pd.read_csv(path + 'sadtraindata.txt', header=None, sep='\\t', names=cols, index_col=0)\n"
   ]
  },
  {
   "cell_type": "code",
   "execution_count": 5,
   "id": "6c6d4dfd-b6bf-41d1-b25c-821b153906a4",
   "metadata": {},
   "outputs": [
    {
     "ename": "NameError",
     "evalue": "name 'X_anger_train' is not defined",
     "output_type": "error",
     "traceback": [
      "\u001b[1;31m---------------------------------------------------------------------------\u001b[0m",
      "\u001b[1;31mNameError\u001b[0m                                 Traceback (most recent call last)",
      "Cell \u001b[1;32mIn[5], line 6\u001b[0m\n\u001b[0;32m      3\u001b[0m tokenizer\u001b[38;5;241m.\u001b[39mfit_on_texts(anger_train[\u001b[38;5;124m'\u001b[39m\u001b[38;5;124mtext\u001b[39m\u001b[38;5;124m'\u001b[39m])\n\u001b[0;32m      5\u001b[0m \u001b[38;5;66;03m# Padding sequences\u001b[39;00m\n\u001b[1;32m----> 6\u001b[0m max_len \u001b[38;5;241m=\u001b[39m \u001b[38;5;28mmax\u001b[39m([\u001b[38;5;28mlen\u001b[39m(seq) \u001b[38;5;28;01mfor\u001b[39;00m seq \u001b[38;5;129;01min\u001b[39;00m \u001b[43mX_anger_train\u001b[49m \u001b[38;5;241m+\u001b[39m X_fear_train \u001b[38;5;241m+\u001b[39m X_joy_train \u001b[38;5;241m+\u001b[39m X_sad_train])\n\u001b[0;32m      7\u001b[0m X_anger_train \u001b[38;5;241m=\u001b[39m pad_sequences(X_anger_train, maxlen\u001b[38;5;241m=\u001b[39mmax_len, padding\u001b[38;5;241m=\u001b[39m\u001b[38;5;124m'\u001b[39m\u001b[38;5;124mpost\u001b[39m\u001b[38;5;124m'\u001b[39m)\n\u001b[0;32m      8\u001b[0m X_fear_train \u001b[38;5;241m=\u001b[39m pad_sequences(X_fear_train, maxlen\u001b[38;5;241m=\u001b[39mmax_len, padding\u001b[38;5;241m=\u001b[39m\u001b[38;5;124m'\u001b[39m\u001b[38;5;124mpost\u001b[39m\u001b[38;5;124m'\u001b[39m)\n",
      "\u001b[1;31mNameError\u001b[0m: name 'X_anger_train' is not defined"
     ]
    }
   ],
   "source": [
    "# Tokenization\n",
    "tokenizer = Tokenizer(num_words=5000)\n",
    "tokenizer.fit_on_texts(anger_train['text'])\n",
    "\n",
    "# Padding sequences\n",
    "max_len = max([len(seq) for seq in X_anger_train + X_fear_train + X_joy_train + X_sad_train])\n",
    "X_anger_train = pad_sequences(X_anger_train, maxlen=max_len, padding='post')\n",
    "X_fear_train = pad_sequences(X_fear_train, maxlen=max_len, padding='post')\n",
    "X_joy_train = pad_sequences(X_joy_train, maxlen=max_len, padding='post')\n",
    "X_sad_train = pad_sequences(X_sad_train, maxlen=max_len, padding='post')\n"
   ]
  }
 ],
 "metadata": {
  "kernelspec": {
   "display_name": "Python 3 (ipykernel)",
   "language": "python",
   "name": "python3"
  },
  "language_info": {
   "codemirror_mode": {
    "name": "ipython",
    "version": 3
   },
   "file_extension": ".py",
   "mimetype": "text/x-python",
   "name": "python",
   "nbconvert_exporter": "python",
   "pygments_lexer": "ipython3",
   "version": "3.11.7"
  }
 },
 "nbformat": 4,
 "nbformat_minor": 5
}
